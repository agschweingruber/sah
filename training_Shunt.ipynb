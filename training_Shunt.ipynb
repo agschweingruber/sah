{
 "cells": [
  {
   "cell_type": "code",
   "execution_count": null,
   "metadata": {},
   "outputs": [],
   "source": [
    "import pandas as pd\n",
    "from torch.utils.data import TensorDataset, DataLoader,Dataset\n",
    "\n",
    "from training.engine import *\n",
    "from training.model import RNNModel\n",
    "from training.config import *\n",
    "from training.dataset import *\n",
    "\n",
    "device = torch.device(\"cuda:1\")\n",
    "\n",
    "import warnings\n",
    "warnings.filterwarnings(\"ignore\")"
   ]
  },
  {
   "cell_type": "code",
   "execution_count": null,
   "metadata": {},
   "outputs": [],
   "source": [
    "grouped = pd.read_csv(\"./data/SAB_Shunt.csv\")"
   ]
  },
  {
   "cell_type": "code",
   "execution_count": null,
   "metadata": {},
   "outputs": [],
   "source": [
    "config = TrainGlobalConfigShunt_with_all()"
   ]
  },
  {
   "cell_type": "code",
   "execution_count": null,
   "metadata": {},
   "outputs": [],
   "source": [
    "var = config.target\n",
    "\n",
    "from sklearn.model_selection import StratifiedKFold\n",
    "X = grouped[\"Fallnummer\"].values\n",
    "y = grouped[var]\n",
    "\n",
    "skf = StratifiedKFold(n_splits=6, random_state = 1)\n",
    "\n",
    "grouped[\"fold\"] = 0\n",
    "\n",
    "for idx, (train_index, test_index) in enumerate(skf.split(X, y)):\n",
    "    grouped[\"fold\"][grouped[\"Fallnummer\"].isin(X[test_index])] = idx"
   ]
  },
  {
   "cell_type": "code",
   "execution_count": null,
   "metadata": {},
   "outputs": [],
   "source": [
    "model = RNNModel(input_dim = len(config.features)).to(device)"
   ]
  },
  {
   "cell_type": "code",
   "execution_count": null,
   "metadata": {
    "scrolled": true
   },
   "outputs": [],
   "source": [
    "results = []\n",
    "results_all = []\n",
    "\n",
    "for val_fold in range(0,6):\n",
    "    for test_fold in range(0,6):\n",
    "        if(val_fold != test_fold):\n",
    "            \n",
    "            model = RNNModel(input_dim = len(config.features)).to(device)\n",
    "\n",
    "            train_dataset = ICUDataset(df = grouped, \n",
    "                                       pat_ids = grouped[\"Fallnummer\"][(grouped[\"fold\"] != val_fold) & (grouped[\"fold\"] != test_fold)].unique(), \n",
    "                                       config = config,\n",
    "                                       mode = \"train\", \n",
    "                                     )\n",
    "            val_dataset = ICUDataset(df = grouped, \n",
    "                                     pat_ids = grouped[\"Fallnummer\"][(grouped[\"fold\"] == val_fold)].unique(), \n",
    "                                     config = config,\n",
    "                                     mode = \"val\")\n",
    "\n",
    "            train_loader = DataLoader(train_dataset, batch_size=16, shuffle=True, num_workers = config.num_workers)\n",
    "            val_loader = DataLoader(val_dataset, batch_size=16, shuffle=False, num_workers = config.num_workers)\n",
    "\n",
    "            fitter = Fitter(model, device, config)\n",
    "            fitter.fit(train_loader, val_loader, str(val_fold) + \"_\"+ str(test_fold))"
   ]
  }
 ],
 "metadata": {
  "kernelspec": {
   "display_name": "Python 3",
   "language": "python",
   "name": "python3"
  },
  "language_info": {
   "codemirror_mode": {
    "name": "ipython",
    "version": 3
   },
   "file_extension": ".py",
   "mimetype": "text/x-python",
   "name": "python",
   "nbconvert_exporter": "python",
   "pygments_lexer": "ipython3",
   "version": "3.7.3"
  }
 },
 "nbformat": 4,
 "nbformat_minor": 5
}
